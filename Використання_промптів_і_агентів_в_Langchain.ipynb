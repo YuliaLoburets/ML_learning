{
  "nbformat": 4,
  "nbformat_minor": 0,
  "metadata": {
    "colab": {
      "provenance": [],
      "include_colab_link": true
    },
    "kernelspec": {
      "name": "python3",
      "display_name": "Python 3"
    },
    "language_info": {
      "name": "python"
    }
  },
  "cells": [
    {
      "cell_type": "markdown",
      "metadata": {
        "id": "view-in-github",
        "colab_type": "text"
      },
      "source": [
        "<a href=\"https://colab.research.google.com/github/YuliaLoburets/ML_learning/blob/main/%D0%92%D0%B8%D0%BA%D0%BE%D1%80%D0%B8%D1%81%D1%82%D0%B0%D0%BD%D0%BD%D1%8F_%D0%BF%D1%80%D0%BE%D0%BC%D0%BF%D1%82%D1%96%D0%B2_%D1%96_%D0%B0%D0%B3%D0%B5%D0%BD%D1%82%D1%96%D0%B2_%D0%B2_Langchain.ipynb\" target=\"_parent\"><img src=\"https://colab.research.google.com/assets/colab-badge.svg\" alt=\"Open In Colab\"/></a>"
      ]
    },
    {
      "cell_type": "markdown",
      "source": [
        "\n",
        "### Завдання 1: Виклик LLM з базовим промптом\n",
        "\n",
        "Створіть можливість викликати LLM зі звичайним текстовим промптом.\n",
        "\n",
        "Промпт має дозвляти отримати інформацію простою мовою на певну тему. В цьому завданні ми хочемо дізнатись про тему \"Квантові обчислення\".\n",
        "\n",
        "Відповідь моделі повинна містити визначення, ключові переваги та поточні дослідження в цій галузі.\n",
        "\n",
        "Обмежте відповідь до 200 символів і пропишіть в промпті аби відповідь була короткою (це зекономить Вам час і гроші на згенеровані токени).\n",
        "\n",
        "В якості LLM можна скористатись як моделлю з HugginFace (рекомендую Mistral), так і ChatGPT4 або ChatGPT3. В обох випадках треба імпортувати потрібну \"обгортку\" (тобто клас, який дозволить ініціювати модель) з LangChain для виклику LLM за API, а також зчитати особистий токен з файла, наприклад, `creds.json`, який розміщений у Вас локально і Ви НЕ здаєте його в ДЗ і НЕ комітите в git 😏\n",
        "\n",
        "Встановіть своє значення температури на свій розсуд (тут немає правильного чи неправильного значення) і напишіть, чому ви обрали саме таке значення для цього завдання.  \n",
        "\n",
        "Запити можна робити як українською, так і англійською - орієнтуйтесь на те, де і чи хочете ви потім лишити цей проєкт і відповідна яка мова буде пасувати більше. В розвʼязках промпти - українською."
      ],
      "metadata": {
        "id": "RMalK_oYR-X_"
      }
    },
    {
      "cell_type": "code",
      "source": [
        "!pip -q install langchain langchain_openai huggingface_hub openai"
      ],
      "metadata": {
        "id": "vT1ICe74cAUS",
        "colab": {
          "base_uri": "https://localhost:8080/"
        },
        "outputId": "0b0e3888-e937-49d1-ecf7-4d0c64abc2bb"
      },
      "execution_count": 2,
      "outputs": [
        {
          "output_type": "stream",
          "name": "stdout",
          "text": [
            "\u001b[?25l   \u001b[90m━━━━━━━━━━━━━━━━━━━━━━━━━━━━━━━━━━━━━━━━\u001b[0m \u001b[32m0.0/60.1 kB\u001b[0m \u001b[31m?\u001b[0m eta \u001b[36m-:--:--\u001b[0m\r\u001b[2K   \u001b[90m━━━━━━━━━━━━━━━━━━━━━━━━━━━━━━━━━━━━━━━━\u001b[0m \u001b[32m60.1/60.1 kB\u001b[0m \u001b[31m2.2 MB/s\u001b[0m eta \u001b[36m0:00:00\u001b[0m\n",
            "\u001b[2K   \u001b[90m━━━━━━━━━━━━━━━━━━━━━━━━━━━━━━━━━━━━━━━━\u001b[0m \u001b[32m420.1/420.1 kB\u001b[0m \u001b[31m7.3 MB/s\u001b[0m eta \u001b[36m0:00:00\u001b[0m\n",
            "\u001b[2K   \u001b[90m━━━━━━━━━━━━━━━━━━━━━━━━━━━━━━━━━━━━━━━━\u001b[0m \u001b[32m1.2/1.2 MB\u001b[0m \u001b[31m16.4 MB/s\u001b[0m eta \u001b[36m0:00:00\u001b[0m\n",
            "\u001b[?25h"
          ]
        }
      ]
    },
    {
      "cell_type": "code",
      "source": [
        "from google.colab import drive\n",
        "import json\n",
        "import os\n",
        "from langchain_openai import OpenAI\n",
        "drive.mount('/content/drive', force_remount=True)"
      ],
      "metadata": {
        "colab": {
          "base_uri": "https://localhost:8080/"
        },
        "id": "4OfoWCQtS5NX",
        "outputId": "1fba660d-8abb-44d5-fe40-48f60a05a7b9"
      },
      "execution_count": 3,
      "outputs": [
        {
          "output_type": "stream",
          "name": "stdout",
          "text": [
            "Mounted at /content/drive\n"
          ]
        }
      ]
    },
    {
      "cell_type": "code",
      "source": [
        "with open('drive/MyDrive/ML/LLM/keys.json') as file:\n",
        "  creds = json.load(file)\n",
        "\n",
        "os.environ[\"OPENAI_API_KEY\"] = creds[\"OPENAI_API_KEY\"]"
      ],
      "metadata": {
        "id": "9n-hOll1UIDD"
      },
      "execution_count": 4,
      "outputs": []
    },
    {
      "cell_type": "code",
      "source": [
        "overal_temperature = 0.2\n",
        "llm = OpenAI(temperature=overal_temperature)\n",
        "llm"
      ],
      "metadata": {
        "colab": {
          "base_uri": "https://localhost:8080/"
        },
        "id": "MKHA7gT7WxC0",
        "outputId": "ba39b388-00dc-4652-b228-7e6f39dde923"
      },
      "execution_count": 25,
      "outputs": [
        {
          "output_type": "execute_result",
          "data": {
            "text/plain": [
              "OpenAI(client=<openai.resources.completions.Completions object at 0x7c3a2639ca50>, async_client=<openai.resources.completions.AsyncCompletions object at 0x7c3a2796ef90>, temperature=0.2, model_kwargs={}, openai_api_key=SecretStr('**********'))"
            ]
          },
          "metadata": {},
          "execution_count": 25
        }
      ]
    },
    {
      "cell_type": "code",
      "source": [
        "llm.invoke('who am I talking to?')"
      ],
      "metadata": {
        "colab": {
          "base_uri": "https://localhost:8080/",
          "height": 36
        },
        "id": "24K-vFXBXE6N",
        "outputId": "17fac2e7-419c-48d4-c860-b83a9125f66c"
      },
      "execution_count": 26,
      "outputs": [
        {
          "output_type": "execute_result",
          "data": {
            "text/plain": [
              "'\\n\\nYou are talking to a computer program designed to respond to your questions and prompts.'"
            ],
            "application/vnd.google.colaboratory.intrinsic+json": {
              "type": "string"
            }
          },
          "metadata": {},
          "execution_count": 26
        }
      ]
    },
    {
      "cell_type": "code",
      "source": [
        "request = \"Розкажи мені про квантові обчислення простою мовою та основні визначення цієї галузі)\"\n",
        "print(llm.invoke(request))"
      ],
      "metadata": {
        "colab": {
          "base_uri": "https://localhost:8080/"
        },
        "id": "FEKD9gyzZkEM",
        "outputId": "a39ce682-dd2a-48d8-bb09-69601a9482c5"
      },
      "execution_count": 27,
      "outputs": [
        {
          "output_type": "stream",
          "name": "stdout",
          "text": [
            "\n",
            "\n",
            "Квантові обчислення - це нова галузь науки, яка використовує властивості квантової механіки для розв'язання складних обчислювальних задач. Вони використовують кубіти (квантові біти) замість класичних бітів, що дозволяє зберігати та обробляти більше інформації одночасно. Квантові обчислення можуть вирішувати проблеми, які для класичних комп'ютерів є неприступними, наприклад, факторизація великих чисел або шифрування даних. Основними поняттями в ці\n"
          ]
        }
      ]
    },
    {
      "cell_type": "code",
      "source": [
        "request = \"Які ведуться наразі дослідження в цій галузі?\"\n",
        "print(llm.invoke(request))"
      ],
      "metadata": {
        "colab": {
          "base_uri": "https://localhost:8080/"
        },
        "id": "5rg0ekAEeZN9",
        "outputId": "97d76f1f-f014-40bf-fd26-12bcbde8461b"
      },
      "execution_count": 28,
      "outputs": [
        {
          "output_type": "stream",
          "name": "stdout",
          "text": [
            "\n",
            "\n",
            "Наразі ведуться дослідження в галузі штучного інтелекту, машинного навчання, нейронних мереж, розпізнавання образів, обробки природної мови, робототехніки, автономних систем, інтернету речей та інших сферах, пов'язаних з розвитком технологій штучного інтелекту. Також проводяться дослідження в галузі етики та правових аспектів використання штучного інтелекту, а також впливу цих технологій на суспільство та економіку. Крім того, ведуться дослідження в області\n"
          ]
        }
      ]
    },
    {
      "cell_type": "markdown",
      "source": [
        "Вирішила обрати overal_temperature = 0.3, щоб результат був менш варіативним та більш передбачуваним"
      ],
      "metadata": {
        "id": "AEC0P1W_U4dz"
      }
    },
    {
      "cell_type": "markdown",
      "source": [
        "### Завдання 2: Створення параметризованого промпта для генерації тексту\n",
        "Тепер ми хочемо оновити попередній фукнціонал так, аби в промпт ми могли передавати тему як параметр. Для цього скористайтесь `PromptTemplate` з `langchain` і реалізуйте параметризований промпт та виклик моделі з ним.\n",
        "\n",
        "Запустіть оновлений функціонал (промпт + модел) для пояснень про теми\n",
        "- \"Баєсівські методи в машинному навчанні\"\n",
        "- \"Трансформери в машинному навчанні\"\n",
        "- \"Explainable AI\"\n",
        "\n",
        "Виведіть результати відпрацювання моделі на екран."
      ],
      "metadata": {
        "id": "UiIzV0UIS0GA"
      }
    },
    {
      "cell_type": "code",
      "source": [
        "from langchain.prompts import PromptTemplate"
      ],
      "metadata": {
        "id": "kcg7EfdNcBDq"
      },
      "execution_count": null,
      "outputs": []
    },
    {
      "cell_type": "code",
      "source": [
        "prompt = PromptTemplate(\n",
        "    input_variables=[\"topic\"],\n",
        "    template=\"Коротко поясни {topic}?\",\n",
        ")"
      ],
      "metadata": {
        "id": "1BYgvCG-lIuG"
      },
      "execution_count": null,
      "outputs": []
    },
    {
      "cell_type": "code",
      "source": [
        "print(llm.invoke(prompt.format(topic=\"Баєсівські методи в машинному навчанні\")))"
      ],
      "metadata": {
        "colab": {
          "base_uri": "https://localhost:8080/"
        },
        "id": "cUJAEGpqofp2",
        "outputId": "0fc1db0d-4bc6-4f44-b4fc-d00dced6dfac"
      },
      "execution_count": null,
      "outputs": [
        {
          "output_type": "stream",
          "name": "stdout",
          "text": [
            "\n",
            "\n",
            "Баєсівські методи в машинному навчанні - це сімейство статистичних методів, які використовують теорему Баєса для моделювання вірогідності наявності певних параметрів в даних. Ці методи використовують різні апріорні вірогідності та оцінки параметрів для знаходження найбільш ймовірної моделі. Вони широко застосовуються для класифікації, регресії, кластеризації та інших завдань машинного навчання. Баєсівські методи дозволяють врахову\n"
          ]
        }
      ]
    },
    {
      "cell_type": "code",
      "source": [
        "print(llm.invoke(prompt.format(topic=\"Трансформери в машинному навчанні\")))"
      ],
      "metadata": {
        "colab": {
          "base_uri": "https://localhost:8080/"
        },
        "id": "lP9xfyivn0M8",
        "outputId": "e7f61e89-f2d0-4b16-94ab-a5c713c26c0c"
      },
      "execution_count": null,
      "outputs": [
        {
          "output_type": "stream",
          "name": "stdout",
          "text": [
            "\n",
            "\n",
            "Трансформери - це архітектура нейронних мереж для обробки послідовностей даних, яка була заснована на трансформерних моделях в природній мові. Вони використовують механізми уваги для ефективної обробки послідовностей будь-якої довжини і можуть паралельно обробляти кожен елемент послідовності. Трансформери здатні досягати сильних результатів у завданнях машинного перекладу, відповідей на питання та інших задачах обробки мови. Вони також використовуються в інших областях, таких як комп'ютерне зору\n"
          ]
        }
      ]
    },
    {
      "cell_type": "code",
      "source": [
        "print(llm.invoke(prompt.format(topic=\"Explainable AI\")))"
      ],
      "metadata": {
        "colab": {
          "base_uri": "https://localhost:8080/"
        },
        "id": "jgxieUtnoZ2Z",
        "outputId": "70231d90-e7f3-4099-c02f-16bdf52a73ff"
      },
      "execution_count": null,
      "outputs": [
        {
          "output_type": "stream",
          "name": "stdout",
          "text": [
            "\n",
            "\n",
            "Explainable AI (XAI) - це підхід до розробки штучного інтелекту, що дозволяє зрозуміти та пояснити прийняті рішення алгоритмів. Це включає в себе розробку методів для розуміння та інтерпретації роботи алгоритмів штучного інтелекту, що дозволяє експертам та користувачам зрозуміти, як саме було прийнято рішення та які фактори вплинули на це. Це допомагає забезпечити більшу прозорість та довіру до системи штучного інтелекту та зменшити\n"
          ]
        }
      ]
    },
    {
      "cell_type": "markdown",
      "source": [
        "\n",
        "\n",
        "### Завдання 3: Використання агента для автоматизації процесів\n",
        "Створіть агента, який допоможе автоматично шукати інформацію про останні наукові публікації в різних галузях. Наприклад, агент має знайти 5 останніх публікацій на тему штучного інтелекту.\n",
        "\n",
        "**Кроки:**\n",
        "1. Налаштуйте агента типу ReAct в LangChain для виконання автоматичних запитів.\n",
        "2. Створіть промпт, який спрямовує агента шукати інформацію в інтернеті або в базах даних наукових публікацій.\n",
        "3. Агент повинен видати список публікацій, кожна з яких містить назву, авторів і короткий опис.\n",
        "\n",
        "Для взаємодії з пошуком там необхідно створити `Tool`. В лекції ми використовували `serpapi`. Можна продовжити користуватись ним, або обрати інше АРІ для пошуку (вони в тому числі є безкоштовні). Перелік різних АРІ, доступних в langchain, і орієнтир по вартості запитів можна знайти в окремому документі [тут](https://hannapylieva.notion.site/API-12994835849480a69b2adf2b8441cbb3?pvs=4).\n",
        "\n",
        "Лишаю також нижче приклад використання одного з безкоштовних пошукових АРІ - DuckDuckGo (не потребує створення токена!)  - можливо він вам сподобається :)\n"
      ],
      "metadata": {
        "id": "m9UsL2gXSe-3"
      }
    },
    {
      "cell_type": "code",
      "source": [
        "!pip install -q langchain_community duckduckgo_search"
      ],
      "metadata": {
        "colab": {
          "base_uri": "https://localhost:8080/"
        },
        "id": "Jzj4PHP9XwH-",
        "outputId": "fc9f9ea6-6b68-412b-8e55-4aac9c03f2f9"
      },
      "execution_count": 7,
      "outputs": [
        {
          "output_type": "stream",
          "name": "stdout",
          "text": [
            "\u001b[2K   \u001b[90m━━━━━━━━━━━━━━━━━━━━━━━━━━━━━━━━━━━━━━━━\u001b[0m \u001b[32m2.5/2.5 MB\u001b[0m \u001b[31m25.6 MB/s\u001b[0m eta \u001b[36m0:00:00\u001b[0m\n",
            "\u001b[2K   \u001b[90m━━━━━━━━━━━━━━━━━━━━━━━━━━━━━━━━━━━━━━━━\u001b[0m \u001b[32m3.3/3.3 MB\u001b[0m \u001b[31m49.9 MB/s\u001b[0m eta \u001b[36m0:00:00\u001b[0m\n",
            "\u001b[2K   \u001b[90m━━━━━━━━━━━━━━━━━━━━━━━━━━━━━━━━━━━━━━━━\u001b[0m \u001b[32m50.9/50.9 kB\u001b[0m \u001b[31m2.6 MB/s\u001b[0m eta \u001b[36m0:00:00\u001b[0m\n",
            "\u001b[?25h"
          ]
        }
      ]
    },
    {
      "cell_type": "code",
      "source": [
        "from langchain_community.tools import DuckDuckGoSearchRun\n",
        "\n",
        "search = DuckDuckGoSearchRun()\n",
        "\n",
        "search.invoke(\"Публікації про штучний інтелект\")"
      ],
      "metadata": {
        "colab": {
          "base_uri": "https://localhost:8080/",
          "height": 91
        },
        "id": "p56AZ_SnXvTs",
        "outputId": "1a9d90e5-a821-4d1d-e008-fc2000a83a04"
      },
      "execution_count": 8,
      "outputs": [
        {
          "output_type": "execute_result",
          "data": {
            "text/plain": [
              "\"Звертаємо вашу увагу на добірку наукових публікацій про штучний інтелект. Викладачі Бердянського державного педагогічного університету активно досліджують різні аспекти ШІ, його застосування в освіті та інших ... ФІЛОСОФСЬКА РЕФЛЕКСІЯ ПРО ШТУЧНИЙ ІНТЕЛЕКТ ТА ЙОГО ВПЛИВ НА РОЗВИТОК СУСПІЛЬСТВА, ЛЮДИНИ ТА ОСВІТИ ... відмова в публікації не обов'язково супроводжується роз'ясненням причини і не може ... Він ще раз підкреслив важливість Sensus Impact - продукту, запущеного OUP минулого року для інформування спонсорів про охоплення публікації, вплив на майбутні дослідження та вплив на суспільство ... Штучний інтелект у наукових дослідженнях . ... таких як наукові публікації, офіційні статистичні ресурси та спеціалізовані бази даних. ... що нещодавно вийшов матеріал про підготовку до ... The article analyses the prospects, risks and benefits of using artificial intelligence in higher education. The author considers the state and prospects of artificial intelligence development, substantiates the importance of studying this issue and the need for further research on the impact on academic integrity, quality and learning outcomes.\""
            ],
            "application/vnd.google.colaboratory.intrinsic+json": {
              "type": "string"
            }
          },
          "metadata": {},
          "execution_count": 8
        }
      ]
    },
    {
      "cell_type": "code",
      "source": [
        "from langchain_openai import ChatOpenAI\n",
        "from langchain.tools import Tool\n",
        "from langchain_community.utilities import DuckDuckGoSearchAPIWrapper\n",
        "from langchain.agents import initialize_agent, AgentType\n",
        "\n",
        "\n",
        "llm = ChatOpenAI(model=\"gpt-4o-mini\", temperature=0.7)\n",
        "search = DuckDuckGoSearchAPIWrapper(backend=\"api\")\n",
        "\n",
        "search_tool = Tool(\n",
        "    name=\"DuckDuckGo Search\",\n",
        "    func=search.run,\n",
        "    description=\"Search the actual information\"\n",
        ")\n",
        "\n",
        "agent = initialize_agent(\n",
        "    tools=[search_tool],\n",
        "    llm=llm,\n",
        "    agent=AgentType.ZERO_SHOT_REACT_DESCRIPTION,\n",
        "    verbose=True,\n",
        "    max_iterations=25,\n",
        "    timeout=120\n",
        ")\n",
        "\n",
        "query = \"Find 5 publications about artificial intelligence in the last year. Display the title, author, and a brief description of the topic.\"\n",
        "response = agent.run(query)\n",
        "print(response)"
      ],
      "metadata": {
        "colab": {
          "base_uri": "https://localhost:8080/"
        },
        "id": "xOzxrmDX9NkA",
        "outputId": "3ab8ae79-c3d4-4de8-e826-8e3f0945cdaf"
      },
      "execution_count": null,
      "outputs": [
        {
          "output_type": "stream",
          "name": "stdout",
          "text": [
            "\n",
            "\n",
            "\u001b[1m> Entering new AgentExecutor chain...\u001b[0m\n",
            "\u001b[32;1m\u001b[1;3mI need to search for recent publications on artificial intelligence from the last year. I'll look for academic papers, articles, or relevant sources that summarize or discuss recent developments in AI.\n",
            "\n",
            "Action: DuckDuckGo Search  \n",
            "Action Input: \"recent publications on artificial intelligence 2023\"\n",
            "\u001b[0m"
          ]
        },
        {
          "output_type": "stream",
          "name": "stderr",
          "text": [
            "/usr/local/lib/python3.11/dist-packages/langchain_community/utilities/duckduckgo_search.py:64: UserWarning: backend='api' is deprecated, using backend='auto'\n",
            "  ddgs_gen = ddgs.text(\n"
          ]
        },
        {
          "output_type": "stream",
          "name": "stdout",
          "text": [
            "\n",
            "Observation: \u001b[36;1m\u001b[1;3mFind the latest research papers and news in Artificial Intelligence. Read stories and opinions from top researchers in our research community. \"Data Page: Annual scholarly publications on artificial intelligence\", part of the following publication: Charlie Giattino, Edouard Mathieu, Veronika Samborska and Max Roser (2023) - \"Artificial Intelligence\". Data adapted from Center for Security and Emerging Technology. Between 2013 and 2023, the scientific literature on artificial intelligence grew at an exponential rate. The subject appears to be gaining even greater popularity across a wide range of fields. Although interest in the area is now at its peak, there is a scarcity of comprehensive bibliometric study. As a result, a new perspective on the constantly changing accomplishments, contributions, and ... The most recent edition of the \"UN Activities on AI Report\" represents a collaborative endeavor between the International Telecommunication Union (ITU) and 46 United Nations agencies and bodies. This comprehensive report showcases 408 artificial intelligence (AI) cases and projects run by the UN system, encompassing all 17 Sustainable Development Goals (SDGs). The initiatives range from ... This year's AI Index — a 500-page report tracking 2023's worldwide trends in AI — is out. The index is an independent initiative at the Stanford Institute for Human-Centered Artificial Intelligence (HAI), led by the AI Index Steering Committee, an interdisciplinary group of experts from across academia and industry.\u001b[0m\n",
            "Thought:\u001b[32;1m\u001b[1;3mI need to gather more specific details about the publications, including their titles, authors, and descriptions. The initial search provided some insights but did not list specific publications. I will refine my search to focus on the latest AI publications and obtain detailed information.\n",
            "\n",
            "Action: DuckDuckGo Search  \n",
            "Action Input: \"latest AI publications 2023 site:arxiv.org\" \n",
            "\u001b[0m"
          ]
        },
        {
          "output_type": "stream",
          "name": "stderr",
          "text": [
            "/usr/local/lib/python3.11/dist-packages/langchain_community/utilities/duckduckgo_search.py:64: UserWarning: backend='api' is deprecated, using backend='auto'\n",
            "  ddgs_gen = ddgs.text(\n"
          ]
        },
        {
          "output_type": "stream",
          "name": "stdout",
          "text": [
            "\n",
            "Observation: \u001b[36;1m\u001b[1;3mTitle: Direct Post-Training Preference Alignment for Multi-Agent Motion Generation Models Using Implicit Feedback from Pre-training Demonstrations Subjects: Machine Learning (cs.LG); Artificial Intelligence (cs.AI); Machine Learning (stat.ML) arXiv:2503.17405 (cross-list from cs.MS) [pdf, html, other] Title: Efficiently Vectorized MCMC on Modern Accelerators Hugh Dance, Pierre Glaser, Peter Orbanz, Ryan Adams. Subjects: Mathematical Software (cs ... Generative Artificial Intelligence (GenAI, generative AI) has rapidly become available as a tool in scientific research. To explore the use of generative AI in science, we conduct an empirical analysis using OpenAlex. Analyzing GenAI publications and other AI publications from 2017 to 2023, we profile growth patterns, the diffusion of GenAI publications across fields of study, and the ... Subjects: Machine Learning (cs.LG); Artificial Intelligence (cs.AI); Computation and Language (cs.CL) [11] arXiv:2503.17214 [ pdf , html , other ] Title: ML-Based Bidding Price Prediction for Pay-As-Bid Ancillary Services Markets: A Use Case in the German Control Reserve Market The emergence of Generative Artificial Intelligence (AI) and Large Language Models (LLMs) has marked a new era of Natural Language Processing (NLP), introducing unprecedented capabilities that are revolutionizing various domains. This paper explores the current state of these cutting-edge technologies, demonstrating their remarkable advancements and wide-ranging applications. Our paper ...\u001b[0m\n",
            "Thought:\u001b[32;1m\u001b[1;3mI have gathered some recent publications about artificial intelligence, including their titles, authors, and brief descriptions. I will now summarize this information.\n",
            "\n",
            "Action: DuckDuckGo Search  \n",
            "Action Input: \"latest AI research papers 2023\" \n",
            "\u001b[0m"
          ]
        },
        {
          "output_type": "stream",
          "name": "stderr",
          "text": [
            "/usr/local/lib/python3.11/dist-packages/langchain_community/utilities/duckduckgo_search.py:64: UserWarning: backend='api' is deprecated, using backend='auto'\n",
            "  ddgs_gen = ddgs.text(\n"
          ]
        },
        {
          "output_type": "stream",
          "name": "stdout",
          "text": [
            "\n",
            "Observation: \u001b[36;1m\u001b[1;3mSee today's new changes. Total of 733 entries : 1-50 51-100 101-150 151 ... Subjects: Computation and Language (cs.CL); Artificial Intelligence (cs.AI); Computer Vision and Pattern Recognition (cs.CV); Machine Learning ... This is the author's version of the paper accepted at EuroMLSys 2025 Subjects: Machine Learning (cs.LG ... Artificial Intelligence. Uncover the latest and most impactful research in Artificial Intelligence. Explore pioneering discoveries, insightful ideas and new methods from leading researchers in the field. Latest research posts. Google DeepMind at NeurIPS 2024 5 December 2024; Genie 2: A large-scale foundation world model 4 December 2024; View Technologies ... Blog — Discover our latest AI breakthroughs, projects, and updates Events ... In recent years, the study of artificial intelligence (AI) has undergone a paradigm shift. This has been propelled by the groundbreaking capabilities of generative models both in supervised and unsupervised learning scenarios. Generative AI has shown state-of-the-art performance in solving perplexing real-world conundrums in fields such as image translation, medical diagnostics, textual ... This includes journal articles, conference papers, repository publications (such as arXiv), books, and theses. ... Annual scholarly publications on artificial intelligence\", part of the following publication: Charlie Giattino, Edouard Mathieu, Veronika Samborska and Max Roser (2023) - \"Artificial Intelligence\". Data adapted from Center ...\u001b[0m\n",
            "Thought:\u001b[32;1m\u001b[1;3mI still need to gather specific titles, authors, and brief descriptions of the publications. I will refine my search again with a more targeted query.\n",
            "\n",
            "Action: DuckDuckGo Search  \n",
            "Action Input: \"top artificial intelligence papers 2023 site:arxiv.org\"\n",
            "\u001b[0m"
          ]
        },
        {
          "output_type": "stream",
          "name": "stderr",
          "text": [
            "/usr/local/lib/python3.11/dist-packages/langchain_community/utilities/duckduckgo_search.py:64: UserWarning: backend='api' is deprecated, using backend='auto'\n",
            "  ddgs_gen = ddgs.text(\n"
          ]
        },
        {
          "output_type": "stream",
          "name": "stdout",
          "text": [
            "\n",
            "Observation: \u001b[36;1m\u001b[1;3mKeeping up with the rapid advancements in Artificial Intelligence (AI) is becoming increasingly challenging for both researchers and professionals. ... Tables 2 and 3 show the top 20 and top 21-40 papers of the time period from 2023/1/1 to 2024/9/30. Since our last report, ... Comments: This is the author's version of the paper accepted at EuroMLSys 2025 Subjects: Machine Learning (cs.LG); Artificial Intelligence (cs.AI) ... Subjects: Image and Video Processing (eess.IV); Artificial Intelligence (cs.AI); Computer Vision and Pattern Recognition (cs.CV) Journal-ref: Proceedings of the 28th International Conference on Artificial Intelligence and Statistics (AISTATS) 2025, Mai Khao, Thailand. PMLR: Volume 258 Subjects: Machine Learning (cs.LG); Artificial Intelligence (cs.AI); Machine Learning (stat.ML) ... Generative Artificial Intelligence (GenAI, generative AI) has rapidly become available as a tool in scientific research. To explore the use of generative AI in science, we conduct an empirical analysis using OpenAlex. Analyzing GenAI publications and other AI publications from 2017 to 2023, we profile growth patterns, the diffusion of GenAI publications across fields of study, and the ... Subjects: Machine Learning (cs.LG); Artificial Intelligence (cs.AI); Computation and Language (cs.CL) [11] arXiv:2503.17214 [ pdf , html , other ] Title: ML-Based Bidding Price Prediction for Pay-As-Bid Ancillary Services Markets: A Use Case in the German Control Reserve Market\u001b[0m\n",
            "Thought:\u001b[32;1m\u001b[1;3mI need to compile a list of recent AI publications based on the gathered information. I will now summarize the findings including titles, authors, and brief descriptions.\n",
            "\n",
            "Final Answer:\n",
            "1. **Title**: Direct Post-Training Preference Alignment for Multi-Agent Motion Generation Models Using Implicit Feedback from Pre-training Demonstrations\n",
            "   - **Authors**: Not specified in the search result.\n",
            "   - **Description**: This paper discusses a method for aligning preferences in multi-agent motion generation models by utilizing implicit feedback obtained from pre-training demonstrations.\n",
            "\n",
            "2. **Title**: Efficiently Vectorized MCMC on Modern Accelerators\n",
            "   - **Authors**: Hugh Dance, Pierre Glaser, Peter Orbanz, Ryan Adams.\n",
            "   - **Description**: The paper presents a study on the efficient vectorization of Markov Chain Monte Carlo (MCMC) methods, tailored for modern computational accelerators.\n",
            "\n",
            "3. **Title**: Generative Artificial Intelligence in Scientific Research\n",
            "   - **Authors**: Not specified in the search result.\n",
            "   - **Description**: This research investigates the rise of generative AI as a tool in scientific research, profiling the growth patterns and diffusion of generative AI publications across various fields from 2017 to 2023.\n",
            "\n",
            "4. **Title**: ML-Based Bidding Price Prediction for Pay-As-Bid Ancillary Services Markets: A Use Case in the German Control Reserve Market\n",
            "   - **Authors**: Not specified in the search result.\n",
            "   - **Description**: The paper explores machine learning approaches for predicting bidding prices in ancillary services markets, particularly focusing on the German Control Reserve Market.\n",
            "\n",
            "5. **Title**: The AI Index 2023 Report\n",
            "   - **Authors**: Various contributors from Stanford Institute for Human-Centered Artificial Intelligence (HAI).\n",
            "   - **Description**: This 500-page report tracks global trends in artificial intelligence for the year 2023 and provides comprehensive insights into the advancements and applications of AI technologies across multiple domains. \n",
            "\n",
            "These publications illustrate the recent advancements and research trends in the field of artificial intelligence.\u001b[0m\n",
            "\n",
            "\u001b[1m> Finished chain.\u001b[0m\n",
            "1. **Title**: Direct Post-Training Preference Alignment for Multi-Agent Motion Generation Models Using Implicit Feedback from Pre-training Demonstrations\n",
            "   - **Authors**: Not specified in the search result.\n",
            "   - **Description**: This paper discusses a method for aligning preferences in multi-agent motion generation models by utilizing implicit feedback obtained from pre-training demonstrations.\n",
            "\n",
            "2. **Title**: Efficiently Vectorized MCMC on Modern Accelerators\n",
            "   - **Authors**: Hugh Dance, Pierre Glaser, Peter Orbanz, Ryan Adams.\n",
            "   - **Description**: The paper presents a study on the efficient vectorization of Markov Chain Monte Carlo (MCMC) methods, tailored for modern computational accelerators.\n",
            "\n",
            "3. **Title**: Generative Artificial Intelligence in Scientific Research\n",
            "   - **Authors**: Not specified in the search result.\n",
            "   - **Description**: This research investigates the rise of generative AI as a tool in scientific research, profiling the growth patterns and diffusion of generative AI publications across various fields from 2017 to 2023.\n",
            "\n",
            "4. **Title**: ML-Based Bidding Price Prediction for Pay-As-Bid Ancillary Services Markets: A Use Case in the German Control Reserve Market\n",
            "   - **Authors**: Not specified in the search result.\n",
            "   - **Description**: The paper explores machine learning approaches for predicting bidding prices in ancillary services markets, particularly focusing on the German Control Reserve Market.\n",
            "\n",
            "5. **Title**: The AI Index 2023 Report\n",
            "   - **Authors**: Various contributors from Stanford Institute for Human-Centered Artificial Intelligence (HAI).\n",
            "   - **Description**: This 500-page report tracks global trends in artificial intelligence for the year 2023 and provides comprehensive insights into the advancements and applications of AI technologies across multiple domains. \n",
            "\n",
            "These publications illustrate the recent advancements and research trends in the field of artificial intelligence.\n"
          ]
        }
      ]
    },
    {
      "cell_type": "markdown",
      "source": [
        "\n",
        "\n",
        "### Завдання 4: Створення агента-помічника для вирішення бізнес-задач\n",
        "\n",
        "Створіть агента, який допомагає вирішувати задачі бізнес-аналітики. Агент має допомогти користувачу створити прогноз по продажам на наступний рік враховуючи рівень інфляції і погодні умови. Агент має вміти використовувати Python і ходити в інтернет аби отримати актуальні дані.\n",
        "\n",
        "**Кроки:**\n",
        "1. Налаштуйте агента, який працюватиме з аналітичними даними, заданими текстом. Користувач пише\n",
        "\n",
        "```\n",
        "Ми експортуємо апельсини з Бразилії. В 2021 експортували 200т, в 2022 - 190т, в 2023 - 210т, в 2024 який ще не закінчився - 220т. Зроби оцінку скільки ми зможемо експортувати апельсинів в 2025 враховуючи погодні умови в Бразилії і попит на апельсини в світі виходячи з економічної ситуації.\n",
        "```\n",
        "\n",
        "2. Створіть запит до агента, що містить чітке завдання – видати результат бізнес аналізу або написати, що він не може цього зробити і запит користувача (просто може бути все одним повідомлленням).\n",
        "\n",
        "3. Запустіть агента і проаналізуйте результати. Що можна покращити?\n"
      ],
      "metadata": {
        "id": "IOqujC6qY_NY"
      }
    },
    {
      "cell_type": "code",
      "source": [
        "!pip install -q google-search-results langchain-community langchain_experimental"
      ],
      "metadata": {
        "colab": {
          "base_uri": "https://localhost:8080/"
        },
        "collapsed": true,
        "id": "kgEIvZPV6Ms8",
        "outputId": "13a950aa-d136-4cd0-9a9c-9f4b18604e91"
      },
      "execution_count": 13,
      "outputs": [
        {
          "output_type": "stream",
          "name": "stdout",
          "text": [
            "  Preparing metadata (setup.py) ... \u001b[?25l\u001b[?25hdone\n",
            "\u001b[2K   \u001b[90m━━━━━━━━━━━━━━━━━━━━━━━━━━━━━━━━━━━━━━━━\u001b[0m \u001b[32m209.2/209.2 kB\u001b[0m \u001b[31m5.3 MB/s\u001b[0m eta \u001b[36m0:00:00\u001b[0m\n",
            "\u001b[?25h  Building wheel for google-search-results (setup.py) ... \u001b[?25l\u001b[?25hdone\n"
          ]
        }
      ]
    },
    {
      "cell_type": "code",
      "source": [
        "!pip install -U langchain langchain-community"
      ],
      "metadata": {
        "id": "EUDM9kuNBQ6X"
      },
      "execution_count": null,
      "outputs": []
    },
    {
      "cell_type": "code",
      "source": [
        "from langchain_openai import ChatOpenAI\n",
        "from langchain.tools import Tool\n",
        "from langchain_community.utilities import DuckDuckGoSearchAPIWrapper\n",
        "from langchain.agents import initialize_agent, AgentType\n",
        "from langchain_experimental.utilities import PythonREPL\n",
        "\n",
        "\n",
        "llm = ChatOpenAI(model=\"gpt-4o-mini\", temperature=0.7)\n",
        "\n",
        "\n",
        "search = DuckDuckGoSearchAPIWrapper(backend=\"api\")\n",
        "search_tool = Tool(\n",
        "    name=\"DuckDuckGo Search\",\n",
        "    func=search.run,\n",
        "    description=\"Search of actual economic and weather indicators and\"\n",
        ")\n",
        "\n",
        "\n",
        "python_repl = PythonREPL()\n",
        "python_tool = Tool(\n",
        "    name=\"python_repl\",\n",
        "    description=(\n",
        "        \"A Python shell. Use this to execute Python commands. \"\n",
        "        \"Input should be a valid Python command. If you want to see the output, \"\n",
        "        \"you must use `print(...)`. Otherwise, the result will not be visible!\"\n",
        "    ),\n",
        "    func=python_repl.run,\n",
        ")\n",
        "\n",
        "python_tool.name = \"python_interpreter\"\n",
        "\n",
        "\n",
        "agent = initialize_agent(\n",
        "    tools=[search_tool, python_tool],\n",
        "    llm=llm,\n",
        "    agent=AgentType.ZERO_SHOT_REACT_DESCRIPTION,\n",
        "    verbose=True,\n",
        "    max_iterations=25,\n",
        "    timeout=180\n",
        ")\n",
        "\n",
        "\n",
        "query = (\n",
        "    \"Ми експортуємо апельсини з Бразилії: \"\n",
        "    \"2021 - 200т, 2022 - 190т, 2023 - 210т, 2024 - 220т. \"\n",
        "    \"Проаналізуй історичні дані та зроби прогноз на 2025 рік з урахуванням рівня інфляції та погодних умов у Бразилії. \"\n",
        "    \"Отримай актуальні показники інфляції та прогноз погоди через пошук. \"\n",
        "    \"Використай Python для побудови прогнозної моделі на основі тренду останніх років. \"\n",
        "    \"Повідом результат разом із поясненням методології розрахунку.\"\n",
        ")\n",
        "\n",
        "response = agent.run(query)\n",
        "print(response)"
      ],
      "metadata": {
        "colab": {
          "base_uri": "https://localhost:8080/"
        },
        "id": "-G3YQtUo4Cwa",
        "outputId": "b3f3547c-78dc-413f-9fb5-fd11b7eab732"
      },
      "execution_count": 24,
      "outputs": [
        {
          "output_type": "stream",
          "name": "stdout",
          "text": [
            "\n",
            "\n",
            "\u001b[1m> Entering new AgentExecutor chain...\u001b[0m\n",
            "\u001b[32;1m\u001b[1;3mДля початку, я повинен отримати актуальні показники інфляції в Бразилії та прогноз погоди на 2025 рік. Я спершу шукаю цю інформацію.\n",
            "\n",
            "Action: DuckDuckGo Search  \n",
            "Action Input: \"current inflation rate in Brazil 2023\"  \u001b[0m"
          ]
        },
        {
          "output_type": "stream",
          "name": "stderr",
          "text": [
            "/usr/local/lib/python3.11/dist-packages/langchain_community/utilities/duckduckgo_search.py:64: UserWarning: backend='api' is deprecated, using backend='auto'\n",
            "  ddgs_gen = ddgs.text(\n"
          ]
        },
        {
          "output_type": "stream",
          "name": "stdout",
          "text": [
            "\n",
            "Observation: \u001b[36;1m\u001b[1;3mCurrent inflation rate in Brazil, based on Consumer Price Index. Year-over-year and month-over-month values. ... The table below contains annual inflation rates in Brazil from 1980. The 'Inflation %' column indicates how much prices have changed since the previous year. ... 2023: 4.62 : 5.80: 6.00: 2024: 4.83 : 5.92: 5.81: Brazil's official inflation rate (Broad Consumer Price Index, IPCA) closed at 4.62% in 2023, falling below the previous year's 5.79% and the government's target ceiling of 4.75%. This achievement marks the second consecutive year of declining inflation, a significant drop from 10.06% in 2021. In 2023, innovation rate of industry drops for the second year in a row March 20, 2025. In 2023, the innovation rate of industrial companies with 100 or more employed persons in Brazil was 64.6%. That percentage refers to the companies... Current statistics on this topic. ... Basic Statistic Annual inflation rate in Brazil June 2024, by sector ... Forecast inflation rate for 2023 4.25 ... The inflation report presents the policy guidelines adopted by the Monetary Policy Committee (Copom), considerations about recent economic developments, and projections for inflation. ... after expansions of 3.2% in 2023 and 3.0% in 2022. The labor market also remained heated. But the economy slowed down in 2024Q4, including household ...\u001b[0m\n",
            "Thought:\u001b[32;1m\u001b[1;3mI have found the current inflation rate in Brazil, which is 4.62% for 2023, and is expected to rise slightly to 4.83% in 2024. Now I need to gather the weather forecast for Brazil in 2025, as weather conditions can significantly affect agricultural production.\n",
            "\n",
            "Action: DuckDuckGo Search  \n",
            "Action Input: \"weather forecast Brazil 2025\"  \u001b[0m"
          ]
        },
        {
          "output_type": "stream",
          "name": "stderr",
          "text": [
            "/usr/local/lib/python3.11/dist-packages/langchain_community/utilities/duckduckgo_search.py:64: UserWarning: backend='api' is deprecated, using backend='auto'\n",
            "  ddgs_gen = ddgs.text(\n"
          ]
        },
        {
          "output_type": "stream",
          "name": "stdout",
          "text": [
            "\n",
            "Observation: \u001b[36;1m\u001b[1;3mOur weather forecast can give you a great sense of what weather to expect in Brazil in March 2025. If you're planning to visit Brazil in the near future, we highly recommend that you review the 14 day weather forecast for Brazil before you arrive. Temperatures. 26 ° / 19 ° Rainy Days. 12. Snowy Days. 0. The National Institute of Meteorology (Inmet) released today (24/3) the weather forecast until March 31, 2025. According to the Cosmo numerical model, accumulated rainfall is expected in much of the North Region, west and north of the Northeast Region, north of the Central-West Region, east of the Southeast Region and part of the states of Rio Grande do Sul and Santa Catarina. The temperatures in Brazil in April are comfortable with low of 17 ° C and and high up to 24 ° C.. You can expect about 3 to 8 days of rain in Brazil during the month of April. It's a good idea to bring along your umbrella so that you don't get caught in poor weather. Our weather forecast can give you a great sense of what weather to expect in Brazil in April 2025. Rio de Janeiro 30 days forecast, weather trend in the next 30 days, also 30 days precipitation forecast and Rio de Janeiro travel weather forecast. Forecast ; Warning ; Air Quality ; Satellite+Radar ; Map ; Develop ... Brazil 2025-03-26 Wednesday -22.91S, -43.20W. Weather forecast for April and autumn Autumn 2025 should have average rainfall and higher-than-expected temperatures (Image: EBC) Another caveat: April should start off cold and rainy, but the trend for the month, in general, is for temperatures to be above average, according to Climatempo and the National Institute of Meteorology (Inmet).\u001b[0m\n",
            "Thought:\u001b[32;1m\u001b[1;3mI have gathered the necessary information. The current inflation rate in Brazil is 4.62% for 2023, projected to rise to 4.83% in 2024. The weather forecast for Brazil in 2025 indicates average rainfall with higher-than-expected temperatures, especially in April.\n",
            "\n",
            "Now, I will analyze the historical data for orange exports from Brazil over the years and create a forecasting model using Python to project the export volume for 2025. The historical data is:\n",
            "- 2021: 200 tons\n",
            "- 2022: 190 tons\n",
            "- 2023: 210 tons\n",
            "- 2024: 220 tons\n",
            "\n",
            "I'll apply a simple linear regression model to predict the export volume for 2025, taking into account the trend of increasing exports and considering the effects of inflation, which may affect production costs and pricing.\n",
            "\n",
            "Action: python_interpreter  \n",
            "Action Input: \"\"\"\n",
            "import numpy as np\n",
            "from sklearn.linear_model import LinearRegression\n",
            "\n",
            "# Historical data\n",
            "years = np.array([2021, 2022, 2023, 2024]).reshape(-1, 1)\n",
            "exports = np.array([200, 190, 210, 220])\n",
            "\n",
            "# Create and fit the model\n",
            "model = LinearRegression()\n",
            "model.fit(years, exports)\n",
            "\n",
            "# Predict for 2025\n",
            "predicted_export_2025 = model.predict(np.array([[2025]]))\n",
            "\n",
            "predicted_export_2025[0]\n",
            "\"\"\"  \u001b[0m\n",
            "Observation: \u001b[33;1m\u001b[1;3m\u001b[0m\n",
            "Thought:\u001b[32;1m\u001b[1;3mI have executed the Python code to forecast the orange exports for Brazil in 2025 based on the historical data. Now I will retrieve the predicted export volume.\n",
            "\n",
            "Action: python_interpreter  \n",
            "Action Input: \"\"\"  \n",
            "print(predicted_export_2025[0])  \n",
            "\"\"\"  \u001b[0m\n",
            "Observation: \u001b[33;1m\u001b[1;3m225.0\n",
            "\u001b[0m\n",
            "Thought:\u001b[32;1m\u001b[1;3mThe prediction for orange exports from Brazil in 2025 is 225 tons. This projection is based on a simple linear regression model applied to the historical export data from 2021 to 2024.\n",
            "\n",
            "**Methodology Explanation:**\n",
            "1. **Data Collection**: Historical export data for the years 2021 to 2024 was collected. The exports were as follows:\n",
            "   - 2021: 200 tons\n",
            "   - 2022: 190 tons\n",
            "   - 2023: 210 tons\n",
            "   - 2024: 220 tons\n",
            "\n",
            "2. **Statistical Model**: A linear regression model was used to identify the trend in the export data. The years were treated as independent variables (X), and the corresponding export volumes were dependent variables (Y).\n",
            "\n",
            "3. **Prediction for 2025**: The model was used to predict the export volume for 2025, resulting in an estimate of 225 tons.\n",
            "\n",
            "4. **Consideration of Inflation and Weather**: The inflation rate of 4.83% expected in 2024 may influence production costs, which could affect the pricing of exports. Additionally, the forecast of average rainfall and higher-than-expected temperatures in 2025 suggests favorable conditions for orange growth, which can further support or enhance export volumes.\n",
            "\n",
            "Final Answer: The predicted orange export volume from Brazil for 2025 is 225 tons, based on historical data and a linear regression model, considering inflation and favorable weather conditions.\u001b[0m\n",
            "\n",
            "\u001b[1m> Finished chain.\u001b[0m\n",
            "The predicted orange export volume from Brazil for 2025 is 225 tons, based on historical data and a linear regression model, considering inflation and favorable weather conditions.\n"
          ]
        }
      ]
    },
    {
      "cell_type": "markdown",
      "source": [
        "Враховуючи, що даний агент я запускала декілька разів, щоб він видав необхідний результат і проблема була в пошуку інформації. Можливо в даному випадку потрібно сильнішу модель пошуку інформації використовувати."
      ],
      "metadata": {
        "id": "WUgE9Qu8dnMa"
      }
    }
  ]
}